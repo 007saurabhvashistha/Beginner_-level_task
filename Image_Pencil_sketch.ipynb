{
  "nbformat": 4,
  "nbformat_minor": 0,
  "metadata": {
    "colab": {
      "provenance": [],
      "authorship_tag": "ABX9TyMkcGYOMIIxFCm9kViC2ma0",
      "include_colab_link": true
    },
    "kernelspec": {
      "name": "python3",
      "display_name": "Python 3"
    },
    "language_info": {
      "name": "python"
    }
  },
  "cells": [
    {
      "cell_type": "markdown",
      "metadata": {
        "id": "view-in-github",
        "colab_type": "text"
      },
      "source": [
        "<a href=\"https://colab.research.google.com/github/007saurabhvashistha/Beginner_-level_task/blob/main/Image_Pencil_sketch.ipynb\" target=\"_parent\"><img src=\"https://colab.research.google.com/assets/colab-badge.svg\" alt=\"Open In Colab\"/></a>"
      ]
    },
    {
      "cell_type": "markdown",
      "source": [
        "Data Science Intern at Let's Grow More LGMVIP september 23\n",
        "Beginner Level Task\n",
        "Image to Pencil Sketch with Python\n",
        "\n",
        "Saurabh vashistha\n"
      ],
      "metadata": {
        "id": "LbrEeRLC4ngO"
      }
    },
    {
      "cell_type": "code",
      "execution_count": 1,
      "metadata": {
        "id": "vmNYmnjL4lzy"
      },
      "outputs": [],
      "source": [
        "# Import Libraries\n",
        "import cv2\n",
        "from google.colab.patches import cv2_imshow\n",
        "from matplotlib import pyplot as plt"
      ]
    },
    {
      "cell_type": "code",
      "source": [
        "from google.colab import drive\n",
        "drive.mount('/content/drive')"
      ],
      "metadata": {
        "colab": {
          "base_uri": "https://localhost:8080/"
        },
        "id": "4ys69ABgOp6j",
        "outputId": "369788d9-ee24-4e33-ab83-f642da606b33"
      },
      "execution_count": 2,
      "outputs": [
        {
          "output_type": "stream",
          "name": "stdout",
          "text": [
            "Mounted at /content/drive\n"
          ]
        }
      ]
    },
    {
      "cell_type": "code",
      "source": [
        "import os\n",
        "os.chdir('/content/drive/My Drive')"
      ],
      "metadata": {
        "id": "LOiIyOwnO20i"
      },
      "execution_count": 3,
      "outputs": []
    },
    {
      "cell_type": "code",
      "source": [
        "!pip install pytesseract\n",
        "!pip install python-resize-image"
      ],
      "metadata": {
        "colab": {
          "base_uri": "https://localhost:8080/"
        },
        "id": "S7KdDjZekrOb",
        "outputId": "1bbdb2d1-ff99-4baf-ea78-3375817c7e1f"
      },
      "execution_count": 11,
      "outputs": [
        {
          "output_type": "stream",
          "name": "stdout",
          "text": [
            "Requirement already satisfied: pytesseract in /usr/local/lib/python3.10/dist-packages (0.3.10)\n",
            "Requirement already satisfied: packaging>=21.3 in /usr/local/lib/python3.10/dist-packages (from pytesseract) (23.1)\n",
            "Requirement already satisfied: Pillow>=8.0.0 in /usr/local/lib/python3.10/dist-packages (from pytesseract) (9.4.0)\n",
            "Collecting python-resize-image\n",
            "  Downloading python_resize_image-1.1.20-py2.py3-none-any.whl (8.4 kB)\n",
            "Requirement already satisfied: Pillow>=5.1.0 in /usr/local/lib/python3.10/dist-packages (from python-resize-image) (9.4.0)\n",
            "Requirement already satisfied: requests>=2.19.1 in /usr/local/lib/python3.10/dist-packages (from python-resize-image) (2.31.0)\n",
            "Requirement already satisfied: charset-normalizer<4,>=2 in /usr/local/lib/python3.10/dist-packages (from requests>=2.19.1->python-resize-image) (3.2.0)\n",
            "Requirement already satisfied: idna<4,>=2.5 in /usr/local/lib/python3.10/dist-packages (from requests>=2.19.1->python-resize-image) (3.4)\n",
            "Requirement already satisfied: urllib3<3,>=1.21.1 in /usr/local/lib/python3.10/dist-packages (from requests>=2.19.1->python-resize-image) (2.0.4)\n",
            "Requirement already satisfied: certifi>=2017.4.17 in /usr/local/lib/python3.10/dist-packages (from requests>=2.19.1->python-resize-image) (2023.7.22)\n",
            "Installing collected packages: python-resize-image\n",
            "Successfully installed python-resize-image-1.1.20\n"
          ]
        }
      ]
    },
    {
      "cell_type": "code",
      "source": [
        "import pytesseract\n",
        "from resizeimage import resizeimage\n",
        "\n",
        "image = cv2.imread(\"./Dog.jpg\")\n",
        "cv2.imshow(\"dog\", image)\n",
        "cv2.show(image)\n",
        "cv2.waitKey(0)"
      ],
      "metadata": {
        "id": "e2AOBr-nlzdx"
      },
      "execution_count": null,
      "outputs": []
    },
    {
      "cell_type": "code",
      "source": [
        "#Reading the black and white image\n",
        "\n",
        "b_nd_w_image =cv2.cvtColor(image,cv2.COLOR_BAYER_BGGR2GRAY)\n",
        "\n",
        "\n",
        "#Displaying the Black and White Image\n",
        "cv2.imshow(\"Black and White Image\",b_nd_w_image)\n",
        "cv2.waitKey(0)"
      ],
      "metadata": {
        "id": "qsJV4oV20ebp"
      },
      "execution_count": null,
      "outputs": []
    },
    {
      "cell_type": "code",
      "source": [
        "#iInverting the image\n",
        "\n",
        "inverted_image = 255 - b_nd_w_image\n",
        "\n",
        "#Displaying the Inverted Image\n",
        "cv2.imshow(\"Inverted Image\",inverted_image)\n",
        "cv2.waitKey()"
      ],
      "metadata": {
        "id": "24SmzWYniWLl"
      },
      "execution_count": null,
      "outputs": []
    },
    {
      "cell_type": "code",
      "source": [
        "#blurring the image\n",
        "blurred = cv2.GaussianBlur(inverted_image,(21,21),0)"
      ],
      "metadata": {
        "id": "T_dFa8HCiabH"
      },
      "execution_count": null,
      "outputs": []
    },
    {
      "cell_type": "code",
      "source": [
        "#Inverting the Blurred image\n",
        "\n",
        "inverted_blurred =255- blurred\n",
        "\n",
        "# Creating the Pencil Sketch image\n",
        "\n",
        "pencil_skecth =cv2.divide(b_nd_w_image,inverted_blurred,scale=256.0)\n",
        "#displaying the Skecth Image\n",
        "cv2.imshow(\"Sketch image\",pencil_skecth)\n",
        "cv2.waitKey(0)"
      ],
      "metadata": {
        "id": "fh5LYNt6ieJZ"
      },
      "execution_count": null,
      "outputs": []
    },
    {
      "cell_type": "code",
      "source": [
        "# Displaying Original Image\n",
        "cv2.imshow(\"Original Image\", image)\n",
        "# Displaying Sketch Image\n",
        "cv2.imshow(\"Pencil Sketch Image\", pencil_sketch)\n",
        "cv2.waitKey(0)"
      ],
      "metadata": {
        "id": "0--XHm67ir4s"
      },
      "execution_count": null,
      "outputs": []
    }
  ]
}